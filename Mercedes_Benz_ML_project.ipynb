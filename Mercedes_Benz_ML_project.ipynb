{
 "cells": [
  {
   "cell_type": "code",
   "execution_count": 2,
   "metadata": {
    "id": "-n-AMrEwp-KM"
   },
   "outputs": [],
   "source": [
    "# Create an ML algorithm that can accurately predict the time a car will spend on the test bench \n",
    "# based on the vehicle configuration\n",
    "\n",
    "# Agenda\n",
    "# 1. If for any column(s), the variance is equal to zero, then you need to remove those variable(s)\n",
    "# 2. Check for null and unique values for test and train sets\n",
    "# 3. Apply label encoder for categorical variables\n",
    "# 4. Perform dimensaionlity reduction with PCA\n",
    "# 5. Predict the test_df values using xgboost"
   ]
  },
  {
   "cell_type": "code",
   "execution_count": 3,
   "metadata": {
    "colab": {
     "base_uri": "https://localhost:8080/",
     "height": 252
    },
    "id": "rljLippmrR6r",
    "outputId": "b5398a5b-c6c3-4663-d189-9b72847d1f1e"
   },
   "outputs": [
    {
     "data": {
      "text/html": [
       "<div>\n",
       "<style scoped>\n",
       "    .dataframe tbody tr th:only-of-type {\n",
       "        vertical-align: middle;\n",
       "    }\n",
       "\n",
       "    .dataframe tbody tr th {\n",
       "        vertical-align: top;\n",
       "    }\n",
       "\n",
       "    .dataframe thead th {\n",
       "        text-align: right;\n",
       "    }\n",
       "</style>\n",
       "<table border=\"1\" class=\"dataframe\">\n",
       "  <thead>\n",
       "    <tr style=\"text-align: right;\">\n",
       "      <th></th>\n",
       "      <th>ID</th>\n",
       "      <th>y</th>\n",
       "      <th>X0</th>\n",
       "      <th>X1</th>\n",
       "      <th>X2</th>\n",
       "      <th>X3</th>\n",
       "      <th>X4</th>\n",
       "      <th>X5</th>\n",
       "      <th>X6</th>\n",
       "      <th>X8</th>\n",
       "      <th>...</th>\n",
       "      <th>X375</th>\n",
       "      <th>X376</th>\n",
       "      <th>X377</th>\n",
       "      <th>X378</th>\n",
       "      <th>X379</th>\n",
       "      <th>X380</th>\n",
       "      <th>X382</th>\n",
       "      <th>X383</th>\n",
       "      <th>X384</th>\n",
       "      <th>X385</th>\n",
       "    </tr>\n",
       "  </thead>\n",
       "  <tbody>\n",
       "    <tr>\n",
       "      <th>0</th>\n",
       "      <td>0</td>\n",
       "      <td>130.81</td>\n",
       "      <td>k</td>\n",
       "      <td>v</td>\n",
       "      <td>at</td>\n",
       "      <td>a</td>\n",
       "      <td>d</td>\n",
       "      <td>u</td>\n",
       "      <td>j</td>\n",
       "      <td>o</td>\n",
       "      <td>...</td>\n",
       "      <td>0</td>\n",
       "      <td>0</td>\n",
       "      <td>1</td>\n",
       "      <td>0</td>\n",
       "      <td>0</td>\n",
       "      <td>0</td>\n",
       "      <td>0</td>\n",
       "      <td>0</td>\n",
       "      <td>0</td>\n",
       "      <td>0</td>\n",
       "    </tr>\n",
       "    <tr>\n",
       "      <th>1</th>\n",
       "      <td>6</td>\n",
       "      <td>88.53</td>\n",
       "      <td>k</td>\n",
       "      <td>t</td>\n",
       "      <td>av</td>\n",
       "      <td>e</td>\n",
       "      <td>d</td>\n",
       "      <td>y</td>\n",
       "      <td>l</td>\n",
       "      <td>o</td>\n",
       "      <td>...</td>\n",
       "      <td>1</td>\n",
       "      <td>0</td>\n",
       "      <td>0</td>\n",
       "      <td>0</td>\n",
       "      <td>0</td>\n",
       "      <td>0</td>\n",
       "      <td>0</td>\n",
       "      <td>0</td>\n",
       "      <td>0</td>\n",
       "      <td>0</td>\n",
       "    </tr>\n",
       "    <tr>\n",
       "      <th>2</th>\n",
       "      <td>7</td>\n",
       "      <td>76.26</td>\n",
       "      <td>az</td>\n",
       "      <td>w</td>\n",
       "      <td>n</td>\n",
       "      <td>c</td>\n",
       "      <td>d</td>\n",
       "      <td>x</td>\n",
       "      <td>j</td>\n",
       "      <td>x</td>\n",
       "      <td>...</td>\n",
       "      <td>0</td>\n",
       "      <td>0</td>\n",
       "      <td>0</td>\n",
       "      <td>0</td>\n",
       "      <td>0</td>\n",
       "      <td>0</td>\n",
       "      <td>1</td>\n",
       "      <td>0</td>\n",
       "      <td>0</td>\n",
       "      <td>0</td>\n",
       "    </tr>\n",
       "    <tr>\n",
       "      <th>3</th>\n",
       "      <td>9</td>\n",
       "      <td>80.62</td>\n",
       "      <td>az</td>\n",
       "      <td>t</td>\n",
       "      <td>n</td>\n",
       "      <td>f</td>\n",
       "      <td>d</td>\n",
       "      <td>x</td>\n",
       "      <td>l</td>\n",
       "      <td>e</td>\n",
       "      <td>...</td>\n",
       "      <td>0</td>\n",
       "      <td>0</td>\n",
       "      <td>0</td>\n",
       "      <td>0</td>\n",
       "      <td>0</td>\n",
       "      <td>0</td>\n",
       "      <td>0</td>\n",
       "      <td>0</td>\n",
       "      <td>0</td>\n",
       "      <td>0</td>\n",
       "    </tr>\n",
       "    <tr>\n",
       "      <th>4</th>\n",
       "      <td>13</td>\n",
       "      <td>78.02</td>\n",
       "      <td>az</td>\n",
       "      <td>v</td>\n",
       "      <td>n</td>\n",
       "      <td>f</td>\n",
       "      <td>d</td>\n",
       "      <td>h</td>\n",
       "      <td>d</td>\n",
       "      <td>n</td>\n",
       "      <td>...</td>\n",
       "      <td>0</td>\n",
       "      <td>0</td>\n",
       "      <td>0</td>\n",
       "      <td>0</td>\n",
       "      <td>0</td>\n",
       "      <td>0</td>\n",
       "      <td>0</td>\n",
       "      <td>0</td>\n",
       "      <td>0</td>\n",
       "      <td>0</td>\n",
       "    </tr>\n",
       "  </tbody>\n",
       "</table>\n",
       "<p>5 rows × 378 columns</p>\n",
       "</div>"
      ],
      "text/plain": [
       "   ID       y  X0 X1  X2 X3 X4 X5 X6 X8  ...  X375  X376  X377  X378  X379  \\\n",
       "0   0  130.81   k  v  at  a  d  u  j  o  ...     0     0     1     0     0   \n",
       "1   6   88.53   k  t  av  e  d  y  l  o  ...     1     0     0     0     0   \n",
       "2   7   76.26  az  w   n  c  d  x  j  x  ...     0     0     0     0     0   \n",
       "3   9   80.62  az  t   n  f  d  x  l  e  ...     0     0     0     0     0   \n",
       "4  13   78.02  az  v   n  f  d  h  d  n  ...     0     0     0     0     0   \n",
       "\n",
       "   X380  X382  X383  X384  X385  \n",
       "0     0     0     0     0     0  \n",
       "1     0     0     0     0     0  \n",
       "2     0     1     0     0     0  \n",
       "3     0     0     0     0     0  \n",
       "4     0     0     0     0     0  \n",
       "\n",
       "[5 rows x 378 columns]"
      ]
     },
     "execution_count": 3,
     "metadata": {},
     "output_type": "execute_result"
    }
   ],
   "source": [
    "# Importing the required libraries\n",
    "# Loading the train/test data\n",
    "# The lowercase alphabets are categorical variables\n",
    "import warnings\n",
    "warnings.filterwarnings('ignore')\n",
    "import numpy as np\n",
    "import pandas as pd\n",
    "\n",
    "train = pd.read_csv('MERCtrain.csv')\n",
    "train.head()"
   ]
  },
  {
   "cell_type": "code",
   "execution_count": 4,
   "metadata": {
    "colab": {
     "base_uri": "https://localhost:8080/"
    },
    "id": "Lj9-5ihqtApd",
    "outputId": "a1679935-e258-4331-8b4c-81c740bedc4a"
   },
   "outputs": [
    {
     "name": "stdout",
     "output_type": "stream",
     "text": [
      "Size of training set\n",
      "(4209, 378)\n"
     ]
    }
   ],
   "source": [
    "print('Size of training set')\n",
    "print(train.shape)"
   ]
  },
  {
   "cell_type": "code",
   "execution_count": 5,
   "metadata": {
    "colab": {
     "base_uri": "https://localhost:8080/"
    },
    "id": "jOPuEr98tHGy",
    "outputId": "21459f7f-f1a7-4118-ced5-41e625fef95e"
   },
   "outputs": [
    {
     "name": "stdout",
     "output_type": "stream",
     "text": [
      "<class 'pandas.core.frame.DataFrame'>\n",
      "RangeIndex: 4209 entries, 0 to 4208\n",
      "Columns: 378 entries, ID to X385\n",
      "dtypes: float64(1), int64(369), object(8)\n",
      "memory usage: 12.1+ MB\n"
     ]
    }
   ],
   "source": [
    "train.info()"
   ]
  },
  {
   "cell_type": "code",
   "execution_count": 6,
   "metadata": {
    "colab": {
     "base_uri": "https://localhost:8080/"
    },
    "id": "iCPx9HPMtUF0",
    "outputId": "b50d4c21-302d-42bb-e590-75d25c4831ac"
   },
   "outputs": [
    {
     "data": {
      "text/plain": [
       "array([130.81,  88.53,  76.26, ..., 109.22,  87.48, 110.85])"
      ]
     },
     "execution_count": 6,
     "metadata": {},
     "output_type": "execute_result"
    }
   ],
   "source": [
    "# Separating y column as this is for prediction output\n",
    "y_train = train['y'].values\n",
    "y_train"
   ]
  },
  {
   "cell_type": "code",
   "execution_count": 7,
   "metadata": {
    "colab": {
     "base_uri": "https://localhost:8080/"
    },
    "id": "8SWOP0yStg1V",
    "outputId": "87d95544-d5b9-4f0b-d111-a8dc1ba45365"
   },
   "outputs": [
    {
     "name": "stdout",
     "output_type": "stream",
     "text": [
      "376\n",
      "int64     368\n",
      "object      8\n",
      "dtype: int64\n"
     ]
    }
   ],
   "source": [
    "# A lot of columns that have an X \n",
    "# Let's check for the same \n",
    "# 376 features with X\n",
    "colums_x = [c for c in train.columns if 'X' in c]\n",
    "\n",
    "# info about colums_x\n",
    "print(len(colums_x))\n",
    "print(train[colums_x].dtypes.value_counts())"
   ]
  },
  {
   "cell_type": "code",
   "execution_count": 8,
   "metadata": {
    "colab": {
     "base_uri": "https://localhost:8080/",
     "height": 252
    },
    "id": "D89XbvV4tsxw",
    "outputId": "48268c9b-a320-4815-8208-4b3e154b8ef7"
   },
   "outputs": [
    {
     "data": {
      "text/html": [
       "<div>\n",
       "<style scoped>\n",
       "    .dataframe tbody tr th:only-of-type {\n",
       "        vertical-align: middle;\n",
       "    }\n",
       "\n",
       "    .dataframe tbody tr th {\n",
       "        vertical-align: top;\n",
       "    }\n",
       "\n",
       "    .dataframe thead th {\n",
       "        text-align: right;\n",
       "    }\n",
       "</style>\n",
       "<table border=\"1\" class=\"dataframe\">\n",
       "  <thead>\n",
       "    <tr style=\"text-align: right;\">\n",
       "      <th></th>\n",
       "      <th>ID</th>\n",
       "      <th>X0</th>\n",
       "      <th>X1</th>\n",
       "      <th>X2</th>\n",
       "      <th>X3</th>\n",
       "      <th>X4</th>\n",
       "      <th>X5</th>\n",
       "      <th>X6</th>\n",
       "      <th>X8</th>\n",
       "      <th>X10</th>\n",
       "      <th>...</th>\n",
       "      <th>X375</th>\n",
       "      <th>X376</th>\n",
       "      <th>X377</th>\n",
       "      <th>X378</th>\n",
       "      <th>X379</th>\n",
       "      <th>X380</th>\n",
       "      <th>X382</th>\n",
       "      <th>X383</th>\n",
       "      <th>X384</th>\n",
       "      <th>X385</th>\n",
       "    </tr>\n",
       "  </thead>\n",
       "  <tbody>\n",
       "    <tr>\n",
       "      <th>0</th>\n",
       "      <td>1</td>\n",
       "      <td>az</td>\n",
       "      <td>v</td>\n",
       "      <td>n</td>\n",
       "      <td>f</td>\n",
       "      <td>d</td>\n",
       "      <td>t</td>\n",
       "      <td>a</td>\n",
       "      <td>w</td>\n",
       "      <td>0</td>\n",
       "      <td>...</td>\n",
       "      <td>0</td>\n",
       "      <td>0</td>\n",
       "      <td>0</td>\n",
       "      <td>1</td>\n",
       "      <td>0</td>\n",
       "      <td>0</td>\n",
       "      <td>0</td>\n",
       "      <td>0</td>\n",
       "      <td>0</td>\n",
       "      <td>0</td>\n",
       "    </tr>\n",
       "    <tr>\n",
       "      <th>1</th>\n",
       "      <td>2</td>\n",
       "      <td>t</td>\n",
       "      <td>b</td>\n",
       "      <td>ai</td>\n",
       "      <td>a</td>\n",
       "      <td>d</td>\n",
       "      <td>b</td>\n",
       "      <td>g</td>\n",
       "      <td>y</td>\n",
       "      <td>0</td>\n",
       "      <td>...</td>\n",
       "      <td>0</td>\n",
       "      <td>0</td>\n",
       "      <td>1</td>\n",
       "      <td>0</td>\n",
       "      <td>0</td>\n",
       "      <td>0</td>\n",
       "      <td>0</td>\n",
       "      <td>0</td>\n",
       "      <td>0</td>\n",
       "      <td>0</td>\n",
       "    </tr>\n",
       "    <tr>\n",
       "      <th>2</th>\n",
       "      <td>3</td>\n",
       "      <td>az</td>\n",
       "      <td>v</td>\n",
       "      <td>as</td>\n",
       "      <td>f</td>\n",
       "      <td>d</td>\n",
       "      <td>a</td>\n",
       "      <td>j</td>\n",
       "      <td>j</td>\n",
       "      <td>0</td>\n",
       "      <td>...</td>\n",
       "      <td>0</td>\n",
       "      <td>0</td>\n",
       "      <td>0</td>\n",
       "      <td>1</td>\n",
       "      <td>0</td>\n",
       "      <td>0</td>\n",
       "      <td>0</td>\n",
       "      <td>0</td>\n",
       "      <td>0</td>\n",
       "      <td>0</td>\n",
       "    </tr>\n",
       "    <tr>\n",
       "      <th>3</th>\n",
       "      <td>4</td>\n",
       "      <td>az</td>\n",
       "      <td>l</td>\n",
       "      <td>n</td>\n",
       "      <td>f</td>\n",
       "      <td>d</td>\n",
       "      <td>z</td>\n",
       "      <td>l</td>\n",
       "      <td>n</td>\n",
       "      <td>0</td>\n",
       "      <td>...</td>\n",
       "      <td>0</td>\n",
       "      <td>0</td>\n",
       "      <td>0</td>\n",
       "      <td>1</td>\n",
       "      <td>0</td>\n",
       "      <td>0</td>\n",
       "      <td>0</td>\n",
       "      <td>0</td>\n",
       "      <td>0</td>\n",
       "      <td>0</td>\n",
       "    </tr>\n",
       "    <tr>\n",
       "      <th>4</th>\n",
       "      <td>5</td>\n",
       "      <td>w</td>\n",
       "      <td>s</td>\n",
       "      <td>as</td>\n",
       "      <td>c</td>\n",
       "      <td>d</td>\n",
       "      <td>y</td>\n",
       "      <td>i</td>\n",
       "      <td>m</td>\n",
       "      <td>0</td>\n",
       "      <td>...</td>\n",
       "      <td>1</td>\n",
       "      <td>0</td>\n",
       "      <td>0</td>\n",
       "      <td>0</td>\n",
       "      <td>0</td>\n",
       "      <td>0</td>\n",
       "      <td>0</td>\n",
       "      <td>0</td>\n",
       "      <td>0</td>\n",
       "      <td>0</td>\n",
       "    </tr>\n",
       "  </tbody>\n",
       "</table>\n",
       "<p>5 rows × 377 columns</p>\n",
       "</div>"
      ],
      "text/plain": [
       "   ID  X0 X1  X2 X3 X4 X5 X6 X8  X10  ...  X375  X376  X377  X378  X379  X380  \\\n",
       "0   1  az  v   n  f  d  t  a  w    0  ...     0     0     0     1     0     0   \n",
       "1   2   t  b  ai  a  d  b  g  y    0  ...     0     0     1     0     0     0   \n",
       "2   3  az  v  as  f  d  a  j  j    0  ...     0     0     0     1     0     0   \n",
       "3   4  az  l   n  f  d  z  l  n    0  ...     0     0     0     1     0     0   \n",
       "4   5   w  s  as  c  d  y  i  m    0  ...     1     0     0     0     0     0   \n",
       "\n",
       "   X382  X383  X384  X385  \n",
       "0     0     0     0     0  \n",
       "1     0     0     0     0  \n",
       "2     0     0     0     0  \n",
       "3     0     0     0     0  \n",
       "4     0     0     0     0  \n",
       "\n",
       "[5 rows x 377 columns]"
      ]
     },
     "execution_count": 8,
     "metadata": {},
     "output_type": "execute_result"
    }
   ],
   "source": [
    "# Looking at the test dataset for simiilar features\n",
    "test = pd.read_csv('MERCtest.csv')\n",
    "test.head()\n"
   ]
  },
  {
   "cell_type": "code",
   "execution_count": 9,
   "metadata": {
    "colab": {
     "base_uri": "https://localhost:8080/"
    },
    "id": "eb68QF2Ft2bb",
    "outputId": "eb5b9646-50d1-461c-d564-0f4641b94881"
   },
   "outputs": [
    {
     "name": "stdout",
     "output_type": "stream",
     "text": [
      "Size of training set\n"
     ]
    },
    {
     "data": {
      "text/plain": [
       "(4209, 377)"
      ]
     },
     "execution_count": 9,
     "metadata": {},
     "output_type": "execute_result"
    }
   ],
   "source": [
    "print('Size of training set')\n",
    "test.shape"
   ]
  },
  {
   "cell_type": "code",
   "execution_count": 10,
   "metadata": {
    "colab": {
     "base_uri": "https://localhost:8080/"
    },
    "id": "vwRBD354t7Ry",
    "outputId": "762c21dc-d9d7-4c0c-edcb-209855c2bc25"
   },
   "outputs": [
    {
     "name": "stdout",
     "output_type": "stream",
     "text": [
      "<class 'pandas.core.frame.DataFrame'>\n",
      "RangeIndex: 4209 entries, 0 to 4208\n",
      "Columns: 377 entries, ID to X385\n",
      "dtypes: int64(369), object(8)\n",
      "memory usage: 12.1+ MB\n"
     ]
    }
   ],
   "source": [
    "test.info()"
   ]
  },
  {
   "cell_type": "code",
   "execution_count": 11,
   "metadata": {
    "id": "4WLY6KwluYMS"
   },
   "outputs": [],
   "source": [
    "# Creating the final dataset\n",
    "# Removing unwanted columns (ID); y has been removed earlier\n",
    "final_column = list(set(train.columns) - set(['ID', 'y']))\n",
    "\n",
    "x_train = train[final_column]\n",
    "# x_train\n",
    "x_test = test[final_column]\n",
    "# x_test"
   ]
  },
  {
   "cell_type": "code",
   "execution_count": 12,
   "metadata": {
    "colab": {
     "base_uri": "https://localhost:8080/"
    },
    "id": "PFJkxZ6kuouF",
    "outputId": "c7a0504d-f0cb-4d4a-a657-72b7b4e30e4f"
   },
   "outputs": [
    {
     "name": "stdout",
     "output_type": "stream",
     "text": [
      "No\n",
      "No\n"
     ]
    }
   ],
   "source": [
    "# Searching for null values\n",
    "# Creating a function for the same\n",
    "def detect(df):\n",
    "    if df.isnull().any().any():\n",
    "        print(\"Yes\")\n",
    "    else:\n",
    "        print(\"No\")\n",
    "\n",
    "detect(x_train)\n",
    "detect(x_test)\n",
    "\n",
    "# Observation : There are no missing values."
   ]
  },
  {
   "cell_type": "code",
   "execution_count": 13,
   "metadata": {
    "colab": {
     "base_uri": "https://localhost:8080/"
    },
    "id": "GoHkVqHNwdP_",
    "outputId": "62eaec98-423f-443a-c998-f16e466e83a4"
   },
   "outputs": [],
   "source": [
    "## EDA\n",
    "# Integer Columns Analysis\n",
    "unique_value_dict = {}\n",
    "for col in x_train.columns:\n",
    "    if col not in [\"ID\", \"y\", \"X0\", \"X1\", \"X2\", \"X3\", \"X4\", \"X5\", \"X6\", \"X8\"]:\n",
    "        unique_value = str(np.sort(x_train[col].unique()).tolist())\n",
    "        t_list = unique_value_dict.get(unique_value, [])\n",
    "        t_list.append(col)\n",
    "        unique_value_dict[unique_value] = t_list[:]"
   ]
  },
  {
   "cell_type": "code",
   "execution_count": 14,
   "metadata": {},
   "outputs": [
    {
     "name": "stdout",
     "output_type": "stream",
     "text": [
      "Columns containing the unique values :  [0, 1]\n",
      "['X380', 'X58', 'X94', 'X139', 'X159', 'X360', 'X251', 'X273', 'X301', 'X22', 'X60', 'X253', 'X370', 'X37', 'X300', 'X338', 'X13', 'X99', 'X142', 'X377', 'X100', 'X19', 'X47', 'X376', 'X184', 'X177', 'X14', 'X120', 'X65', 'X33', 'X242', 'X129', 'X151', 'X324', 'X215', 'X230', 'X10', 'X118', 'X134', 'X186', 'X364', 'X74', 'X239', 'X64', 'X280', 'X146', 'X276', 'X200', 'X17', 'X238', 'X105', 'X82', 'X275', 'X326', 'X168', 'X209', 'X285', 'X332', 'X187', 'X243', 'X339', 'X358', 'X221', 'X241', 'X305', 'X148', 'X223', 'X384', 'X291', 'X352', 'X45', 'X265', 'X32', 'X41', 'X343', 'X164', 'X97', 'X371', 'X354', 'X254', 'X130', 'X79', 'X179', 'X77', 'X136', 'X175', 'X214', 'X18', 'X363', 'X166', 'X75', 'X262', 'X318', 'X246', 'X50', 'X132', 'X309', 'X216', 'X194', 'X176', 'X258', 'X368', 'X135', 'X26', 'X95', 'X232', 'X119', 'X31', 'X272', 'X51', 'X84', 'X281', 'X90', 'X269', 'X220', 'X24', 'X162', 'X207', 'X316', 'X88', 'X52', 'X150', 'X55', 'X287', 'X212', 'X43', 'X172', 'X277', 'X345', 'X155', 'X372', 'X59', 'X244', 'X113', 'X278', 'X240', 'X202', 'X144', 'X53', 'X109', 'X34', 'X91', 'X357', 'X116', 'X356', 'X329', 'X373', 'X128', 'X178', 'X321', 'X145', 'X152', 'X112', 'X217', 'X15', 'X362', 'X180', 'X27', 'X169', 'X63', 'X122', 'X282', 'X325', 'X359', 'X181', 'X161', 'X323', 'X173', 'X283', 'X222', 'X163', 'X16', 'X331', 'X125', 'X288', 'X247', 'X267', 'X76', 'X66', 'X213', 'X183', 'X21', 'X153', 'X346', 'X158', 'X137', 'X302', 'X29', 'X314', 'X342', 'X366', 'X319', 'X227', 'X54', 'X256', 'X204', 'X270', 'X252', 'X96', 'X328', 'X295', 'X353', 'X12', 'X308', 'X322', 'X35', 'X228', 'X110', 'X218', 'X378', 'X286', 'X237', 'X57', 'X279', 'X78', 'X375', 'X306', 'X38', 'X226', 'X259', 'X271', 'X141', 'X28', 'X203', 'X49', 'X219', 'X257', 'X201', 'X115', 'X340', 'X114', 'X87', 'X231', 'X385', 'X255', 'X327', 'X46', 'X335', 'X36', 'X174', 'X294', 'X307', 'X236', 'X266', 'X198', 'X374', 'X89', 'X310', 'X197', 'X341', 'X61', 'X20', 'X263', 'X210', 'X71', 'X124', 'X229', 'X250', 'X225', 'X140', 'X312', 'X299', 'X48', 'X337', 'X320', 'X298', 'X245', 'X165', 'X70', 'X260', 'X83', 'X103', 'X205', 'X369', 'X143', 'X138', 'X126', 'X123', 'X224', 'X292', 'X211', 'X42', 'X185', 'X67', 'X147', 'X68', 'X206', 'X248', 'X189', 'X334', 'X170', 'X355', 'X92', 'X317', 'X182', 'X264', 'X191', 'X361', 'X333', 'X311', 'X73', 'X157', 'X56', 'X344', 'X111', 'X313', 'X108', 'X160', 'X234', 'X39', 'X195', 'X44', 'X261', 'X98', 'X192', 'X131', 'X304', 'X249', 'X315', 'X106', 'X117', 'X383', 'X85', 'X40', 'X127', 'X208', 'X133', 'X379', 'X382', 'X296', 'X349', 'X81', 'X171', 'X62', 'X199', 'X167', 'X351', 'X104', 'X69', 'X365', 'X101', 'X336', 'X196', 'X102', 'X86', 'X30', 'X284', 'X274', 'X80', 'X156', 'X190', 'X367', 'X350', 'X154', 'X348', 'X23']\n",
      "-----------------------------------------------------------\n",
      "Columns containing the unique values :  [0]\n",
      "['X330', 'X289', 'X233', 'X235', 'X93', 'X297', 'X107', 'X347', 'X290', 'X11', 'X293', 'X268']\n",
      "-----------------------------------------------------------\n"
     ]
    }
   ],
   "source": [
    "for unique_val, columns in unique_value_dict.items():\n",
    "    print(\"Columns containing the unique values : \",unique_val)\n",
    "    print(columns)\n",
    "    print(\"-----------------------------------------------------------\")"
   ]
  },
  {
   "cell_type": "code",
   "execution_count": 15,
   "metadata": {
    "colab": {
     "base_uri": "https://localhost:8080/",
     "height": 336
    },
    "id": "7bCnf-pnvHZp",
    "outputId": "54e63f23-5d7c-4a34-da38-86e2779d22e9"
   },
   "outputs": [
    {
     "data": {
      "text/html": [
       "<div>\n",
       "<style scoped>\n",
       "    .dataframe tbody tr th:only-of-type {\n",
       "        vertical-align: middle;\n",
       "    }\n",
       "\n",
       "    .dataframe tbody tr th {\n",
       "        vertical-align: top;\n",
       "    }\n",
       "\n",
       "    .dataframe thead th {\n",
       "        text-align: right;\n",
       "    }\n",
       "</style>\n",
       "<table border=\"1\" class=\"dataframe\">\n",
       "  <thead>\n",
       "    <tr style=\"text-align: right;\">\n",
       "      <th></th>\n",
       "      <th>X380</th>\n",
       "      <th>X58</th>\n",
       "      <th>X94</th>\n",
       "      <th>X139</th>\n",
       "      <th>X159</th>\n",
       "      <th>X360</th>\n",
       "      <th>X251</th>\n",
       "      <th>X273</th>\n",
       "      <th>X301</th>\n",
       "      <th>X22</th>\n",
       "      <th>...</th>\n",
       "      <th>X284</th>\n",
       "      <th>X274</th>\n",
       "      <th>X80</th>\n",
       "      <th>X156</th>\n",
       "      <th>X190</th>\n",
       "      <th>X367</th>\n",
       "      <th>X350</th>\n",
       "      <th>X154</th>\n",
       "      <th>X348</th>\n",
       "      <th>X23</th>\n",
       "    </tr>\n",
       "  </thead>\n",
       "  <tbody>\n",
       "    <tr>\n",
       "      <th>0</th>\n",
       "      <td>0</td>\n",
       "      <td>1</td>\n",
       "      <td>0</td>\n",
       "      <td>0</td>\n",
       "      <td>0</td>\n",
       "      <td>0</td>\n",
       "      <td>0</td>\n",
       "      <td>1</td>\n",
       "      <td>0</td>\n",
       "      <td>0</td>\n",
       "      <td>...</td>\n",
       "      <td>0</td>\n",
       "      <td>0</td>\n",
       "      <td>0</td>\n",
       "      <td>1</td>\n",
       "      <td>0</td>\n",
       "      <td>0</td>\n",
       "      <td>0</td>\n",
       "      <td>0</td>\n",
       "      <td>0</td>\n",
       "      <td>0</td>\n",
       "    </tr>\n",
       "    <tr>\n",
       "      <th>1</th>\n",
       "      <td>0</td>\n",
       "      <td>0</td>\n",
       "      <td>0</td>\n",
       "      <td>0</td>\n",
       "      <td>0</td>\n",
       "      <td>0</td>\n",
       "      <td>0</td>\n",
       "      <td>1</td>\n",
       "      <td>0</td>\n",
       "      <td>0</td>\n",
       "      <td>...</td>\n",
       "      <td>0</td>\n",
       "      <td>0</td>\n",
       "      <td>1</td>\n",
       "      <td>1</td>\n",
       "      <td>0</td>\n",
       "      <td>0</td>\n",
       "      <td>0</td>\n",
       "      <td>0</td>\n",
       "      <td>1</td>\n",
       "      <td>0</td>\n",
       "    </tr>\n",
       "    <tr>\n",
       "      <th>2</th>\n",
       "      <td>0</td>\n",
       "      <td>1</td>\n",
       "      <td>0</td>\n",
       "      <td>0</td>\n",
       "      <td>0</td>\n",
       "      <td>0</td>\n",
       "      <td>0</td>\n",
       "      <td>1</td>\n",
       "      <td>0</td>\n",
       "      <td>0</td>\n",
       "      <td>...</td>\n",
       "      <td>0</td>\n",
       "      <td>1</td>\n",
       "      <td>1</td>\n",
       "      <td>0</td>\n",
       "      <td>0</td>\n",
       "      <td>0</td>\n",
       "      <td>1</td>\n",
       "      <td>0</td>\n",
       "      <td>1</td>\n",
       "      <td>0</td>\n",
       "    </tr>\n",
       "    <tr>\n",
       "      <th>3</th>\n",
       "      <td>0</td>\n",
       "      <td>0</td>\n",
       "      <td>0</td>\n",
       "      <td>0</td>\n",
       "      <td>0</td>\n",
       "      <td>0</td>\n",
       "      <td>0</td>\n",
       "      <td>1</td>\n",
       "      <td>0</td>\n",
       "      <td>0</td>\n",
       "      <td>...</td>\n",
       "      <td>0</td>\n",
       "      <td>0</td>\n",
       "      <td>1</td>\n",
       "      <td>0</td>\n",
       "      <td>0</td>\n",
       "      <td>0</td>\n",
       "      <td>1</td>\n",
       "      <td>0</td>\n",
       "      <td>1</td>\n",
       "      <td>0</td>\n",
       "    </tr>\n",
       "    <tr>\n",
       "      <th>4</th>\n",
       "      <td>0</td>\n",
       "      <td>0</td>\n",
       "      <td>0</td>\n",
       "      <td>0</td>\n",
       "      <td>0</td>\n",
       "      <td>0</td>\n",
       "      <td>0</td>\n",
       "      <td>1</td>\n",
       "      <td>0</td>\n",
       "      <td>0</td>\n",
       "      <td>...</td>\n",
       "      <td>0</td>\n",
       "      <td>0</td>\n",
       "      <td>1</td>\n",
       "      <td>0</td>\n",
       "      <td>0</td>\n",
       "      <td>0</td>\n",
       "      <td>1</td>\n",
       "      <td>0</td>\n",
       "      <td>1</td>\n",
       "      <td>0</td>\n",
       "    </tr>\n",
       "  </tbody>\n",
       "</table>\n",
       "<p>5 rows × 364 columns</p>\n",
       "</div>"
      ],
      "text/plain": [
       "   X380  X58  X94  X139  X159  X360  X251  X273  X301  X22  ...  X284  X274  \\\n",
       "0     0    1    0     0     0     0     0     1     0    0  ...     0     0   \n",
       "1     0    0    0     0     0     0     0     1     0    0  ...     0     0   \n",
       "2     0    1    0     0     0     0     0     1     0    0  ...     0     1   \n",
       "3     0    0    0     0     0     0     0     1     0    0  ...     0     0   \n",
       "4     0    0    0     0     0     0     0     1     0    0  ...     0     0   \n",
       "\n",
       "   X80 X156  X190  X367 X350  X154  X348  X23  \n",
       "0    0    1     0     0    0     0     0    0  \n",
       "1    1    1     0     0    0     0     1    0  \n",
       "2    1    0     0     0    1     0     1    0  \n",
       "3    1    0     0     0    1     0     1    0  \n",
       "4    1    0     0     0    1     0     1    0  \n",
       "\n",
       "[5 rows x 364 columns]"
      ]
     },
     "execution_count": 15,
     "metadata": {},
     "output_type": "execute_result"
    }
   ],
   "source": [
    "# Removal of columns with a variance of 0\n",
    "# means columns that have only one unique value 0. \n",
    "\n",
    "for column in final_column:\n",
    "    check = len(np.unique(x_train[column]))\n",
    "    if check == 1:\n",
    "        x_train.drop(column, axis = 1, inplace=True) \n",
    "        x_test.drop(column, axis = 1, inplace=True)\n",
    "\n",
    "x_train.head()"
   ]
  },
  {
   "cell_type": "code",
   "execution_count": 16,
   "metadata": {
    "colab": {
     "base_uri": "https://localhost:8080/"
    },
    "id": "GZXCSIdIA-_-",
    "outputId": "7cd64ec2-3a18-4003-a6d2-d31d56462f69"
   },
   "outputs": [
    {
     "name": "stdout",
     "output_type": "stream",
     "text": [
      "   X380  X58  X94  X139  X159  X360  X251  X273  X301  X22  ...  X284  X274  \\\n",
      "0     0    1    0     0     0     0     0     1     0    0  ...     0     0   \n",
      "1     0    0    0     0     0     0     0     1     0    0  ...     0     0   \n",
      "2     0    1    0     0     0     0     0     1     0    0  ...     0     1   \n",
      "3     0    0    0     0     0     0     0     1     0    0  ...     0     0   \n",
      "4     0    0    0     0     0     0     0     1     0    0  ...     0     0   \n",
      "\n",
      "   X80  X156  X190  X367  X350  X154  X348  X23  \n",
      "0    0     1     0     0     0     0     0    0  \n",
      "1    1     1     0     0     0     0     1    0  \n",
      "2    1     0     0     0     1     0     1    0  \n",
      "3    1     0     0     0     1     0     1    0  \n",
      "4    1     0     0     0     1     0     1    0  \n",
      "\n",
      "[5 rows x 364 columns]\n"
     ]
    }
   ],
   "source": [
    "## Label encoding the Categorical columns\n",
    "from sklearn import preprocessing\n",
    "for f in [\"X0\", \"X1\", \"X2\", \"X3\", \"X4\", \"X5\", \"X6\", \"X8\"]:\n",
    "        lbl = preprocessing.LabelEncoder()\n",
    "        lbl.fit(list(x_train[f].values)) \n",
    "        x_train[f] = lbl.transform(list(x_train[f].values))\n",
    "        #x_test[f] = lbl.transform(list(x_test[f].values))   ## as values in test dataset differs from train set\n",
    "        \n",
    "print(x_train.head())"
   ]
  },
  {
   "cell_type": "code",
   "execution_count": 17,
   "metadata": {
    "colab": {
     "base_uri": "https://localhost:8080/",
     "height": 732
    },
    "id": "X0ASq1CE_T1G",
    "outputId": "99cdca00-3388-461a-ff13-f5ec8e236833"
   },
   "outputs": [
    {
     "data": {
      "image/png": "[encoded data removed]",
      "text/plain": [
       "<Figure size 864x864 with 1 Axes>"
      ]
     },
     "metadata": {
      "needs_background": "light"
     },
     "output_type": "display_data"
    }
   ],
   "source": [
    "## Let us build a Random Forest model and check the important variables.\n",
    "\n",
    "from sklearn import ensemble\n",
    "model = ensemble.RandomForestRegressor(n_estimators=200, \n",
    "                                       max_depth=10, min_samples_leaf=4, \n",
    "                                       max_features=0.2, n_jobs=-1, \n",
    "                                       random_state=0)\n",
    "model.fit(x_train, y_train)\n",
    "feat_names = x_train.columns.values\n",
    "\n",
    "## plot the importances ##\n",
    "importances = model.feature_importances_\n",
    "std = np.std([tree.feature_importances_ for tree in model.estimators_], axis=0)\n",
    "indices = np.argsort(importances)[::-1][:20]\n",
    "\n",
    "import matplotlib.pyplot as plt\n",
    "plt.figure(figsize=(12,12))\n",
    "plt.title(\"Feature importances\")\n",
    "plt.bar(range(len(indices)), importances[indices], color=\"r\", align=\"center\")\n",
    "plt.xticks(range(len(indices)), feat_names[indices], rotation='vertical')\n",
    "plt.xlim([-1, len(indices)])\n",
    "plt.show()"
   ]
  },
  {
   "cell_type": "code",
   "execution_count": 18,
   "metadata": {
    "id": "Pdh9NR_1-9Tp"
   },
   "outputs": [],
   "source": [
    "# Performing dimensionality reduction with principal components analysis\n",
    "from sklearn.decomposition import PCA\n",
    "n_comp = 12\n",
    "pca = PCA(n_components = n_comp, random_state = 42)\n",
    "pca_result_train = pca.fit_transform(x_train)\n",
    "##pca_result_test = pca.transform(x_test)\n"
   ]
  },
  {
   "cell_type": "code",
   "execution_count": 19,
   "metadata": {
    "id": "RuCW2st0DS5a"
   },
   "outputs": [],
   "source": [
    "#print(pca_result_train)\n",
    "#print(pca_result_test)"
   ]
  },
  {
   "cell_type": "code",
   "execution_count": 20,
   "metadata": {
    "id": "ZTp3PVXlDRSL"
   },
   "outputs": [],
   "source": [
    "# ML Modeling with XGboost\n",
    "import xgboost as xgb\n",
    "from sklearn.metrics import r2_score\n",
    "from sklearn.model_selection import train_test_split\n",
    "\n",
    "# Splitting the data by 80/20\n",
    "x_train, x_valid, y_train, y_valid = train_test_split(pca_result_train, \n",
    "                                                      y_train, \n",
    "                                                      test_size = 0.2, \n",
    "                                                      random_state = 42)"
   ]
  },
  {
   "cell_type": "code",
   "execution_count": 21,
   "metadata": {
    "id": "RBCDAQnZILKX"
   },
   "outputs": [],
   "source": [
    "# Building the final feature set\n",
    "f_train = xgb.DMatrix(x_train, label = y_train)\n",
    "f_valid = xgb.DMatrix(x_valid, label = y_valid)\n",
    "\n",
    "#f_test = xgb.DMatrix(pca_result_test)\n",
    "\n",
    "## DMatrix is an internal data structure that is used by XGBoost, \n",
    "## which is optimized for both memory efficiency and training speed.\n",
    "\n",
    "## https://xgboost.readthedocs.io/en/latest/python/python_api.html"
   ]
  },
  {
   "cell_type": "code",
   "execution_count": 22,
   "metadata": {
    "id": "rKiu6xSxIypR"
   },
   "outputs": [],
   "source": [
    "# Setting the parameters for XGB\n",
    "params = {}\n",
    "params['objective'] = 'reg:linear'\n",
    "params['eta'] = 0.02  ## eta means learning rate\n",
    "params['max_depth'] = 4"
   ]
  },
  {
   "cell_type": "code",
   "execution_count": 23,
   "metadata": {
    "colab": {
     "base_uri": "https://localhost:8080/"
    },
    "id": "3AaUD_1BI6zS",
    "outputId": "ee1be05d-f5dc-40b3-d08e-e112d06dfd37"
   },
   "outputs": [
    {
     "name": "stdout",
     "output_type": "stream",
     "text": [
      "[09:52:13] WARNING: C:/Users/Administrator/workspace/xgboost-win64_release_1.6.0/src/objective/regression_obj.cu:203: reg:linear is now deprecated in favor of reg:squarederror.\n",
      "[0]\ttrain-rmse:98.99704\ttrain-r2:-59.49743\tvalid-rmse:98.88675\tvalid-r2:-61.82424\n",
      "[10]\ttrain-rmse:81.14532\ttrain-r2:-39.64615\tvalid-rmse:81.05431\tvalid-r2:-41.20883\n",
      "[20]\ttrain-rmse:66.60017\ttrain-r2:-26.38061\tvalid-rmse:66.52771\tvalid-r2:-27.43520\n",
      "[30]\ttrain-rmse:54.76084\ttrain-r2:-17.51112\tvalid-rmse:54.72092\tvalid-r2:-18.23791\n",
      "[40]\ttrain-rmse:45.14307\ttrain-r2:-11.57983\tvalid-rmse:45.11907\tvalid-r2:-12.07891\n",
      "[50]\ttrain-rmse:37.35343\ttrain-r2:-7.61298\tvalid-rmse:37.35661\tvalid-r2:-7.96573\n",
      "[60]\ttrain-rmse:31.07077\ttrain-r2:-4.95932\tvalid-rmse:31.08922\tvalid-r2:-5.20970\n",
      "[70]\ttrain-rmse:26.02810\ttrain-r2:-3.18194\tvalid-rmse:26.04551\tvalid-r2:-3.35830\n",
      "[80]\ttrain-rmse:22.00456\ttrain-r2:-1.98894\tvalid-rmse:22.02657\tvalid-r2:-2.11706\n",
      "[90]\ttrain-rmse:18.81812\ttrain-r2:-1.18597\tvalid-rmse:18.84557\tvalid-r2:-1.28176\n",
      "[100]\ttrain-rmse:16.32133\ttrain-r2:-0.64438\tvalid-rmse:16.36666\tvalid-r2:-0.72096\n",
      "[110]\ttrain-rmse:14.38450\ttrain-r2:-0.27727\tvalid-rmse:14.44822\tvalid-r2:-0.34116\n",
      "[120]\ttrain-rmse:12.89844\ttrain-r2:-0.02699\tvalid-rmse:12.98687\tvalid-r2:-0.08358\n",
      "[130]\ttrain-rmse:11.78709\ttrain-r2:0.14236\tvalid-rmse:11.90630\tvalid-r2:0.08924\n",
      "[140]\ttrain-rmse:10.95484\ttrain-r2:0.25919\tvalid-rmse:11.11238\tvalid-r2:0.20665\n",
      "[150]\ttrain-rmse:10.33993\ttrain-r2:0.34002\tvalid-rmse:10.54046\tvalid-r2:0.28621\n",
      "[160]\ttrain-rmse:9.88000\ttrain-r2:0.39743\tvalid-rmse:10.12716\tvalid-r2:0.34109\n",
      "[170]\ttrain-rmse:9.53201\ttrain-r2:0.43913\tvalid-rmse:9.82397\tvalid-r2:0.37995\n",
      "[180]\ttrain-rmse:9.29004\ttrain-r2:0.46724\tvalid-rmse:9.62406\tvalid-r2:0.40493\n",
      "[190]\ttrain-rmse:9.09816\ttrain-r2:0.48902\tvalid-rmse:9.48242\tvalid-r2:0.42232\n",
      "[200]\ttrain-rmse:8.95357\ttrain-r2:0.50514\tvalid-rmse:9.38340\tvalid-r2:0.43432\n",
      "[210]\ttrain-rmse:8.83902\ttrain-r2:0.51772\tvalid-rmse:9.31418\tvalid-r2:0.44263\n",
      "[220]\ttrain-rmse:8.73885\ttrain-r2:0.52859\tvalid-rmse:9.26166\tvalid-r2:0.44890\n",
      "[230]\ttrain-rmse:8.66482\ttrain-r2:0.53654\tvalid-rmse:9.22442\tvalid-r2:0.45332\n",
      "[240]\ttrain-rmse:8.59197\ttrain-r2:0.54430\tvalid-rmse:9.19762\tvalid-r2:0.45650\n",
      "[250]\ttrain-rmse:8.52018\ttrain-r2:0.55188\tvalid-rmse:9.18013\tvalid-r2:0.45856\n",
      "[260]\ttrain-rmse:8.45630\ttrain-r2:0.55858\tvalid-rmse:9.16255\tvalid-r2:0.46063\n",
      "[270]\ttrain-rmse:8.40213\ttrain-r2:0.56422\tvalid-rmse:9.15470\tvalid-r2:0.46156\n",
      "[280]\ttrain-rmse:8.34450\ttrain-r2:0.57017\tvalid-rmse:9.14839\tvalid-r2:0.46230\n",
      "[290]\ttrain-rmse:8.30317\ttrain-r2:0.57442\tvalid-rmse:9.14055\tvalid-r2:0.46322\n",
      "[300]\ttrain-rmse:8.25738\ttrain-r2:0.57910\tvalid-rmse:9.13100\tvalid-r2:0.46434\n",
      "[310]\ttrain-rmse:8.21142\ttrain-r2:0.58377\tvalid-rmse:9.12939\tvalid-r2:0.46453\n",
      "[320]\ttrain-rmse:8.17515\ttrain-r2:0.58744\tvalid-rmse:9.13218\tvalid-r2:0.46420\n",
      "[330]\ttrain-rmse:8.14002\ttrain-r2:0.59098\tvalid-rmse:9.12819\tvalid-r2:0.46467\n",
      "[340]\ttrain-rmse:8.09669\ttrain-r2:0.59532\tvalid-rmse:9.12963\tvalid-r2:0.46450\n",
      "[350]\ttrain-rmse:8.06295\ttrain-r2:0.59869\tvalid-rmse:9.12941\tvalid-r2:0.46453\n",
      "[360]\ttrain-rmse:8.03523\ttrain-r2:0.60144\tvalid-rmse:9.12769\tvalid-r2:0.46473\n",
      "[370]\ttrain-rmse:8.00245\ttrain-r2:0.60469\tvalid-rmse:9.12638\tvalid-r2:0.46488\n",
      "[380]\ttrain-rmse:7.97109\ttrain-r2:0.60778\tvalid-rmse:9.12698\tvalid-r2:0.46481\n",
      "[390]\ttrain-rmse:7.93828\ttrain-r2:0.61100\tvalid-rmse:9.12512\tvalid-r2:0.46503\n",
      "[400]\ttrain-rmse:7.91238\ttrain-r2:0.61354\tvalid-rmse:9.12321\tvalid-r2:0.46525\n",
      "[410]\ttrain-rmse:7.89211\ttrain-r2:0.61552\tvalid-rmse:9.12460\tvalid-r2:0.46509\n",
      "[420]\ttrain-rmse:7.86595\ttrain-r2:0.61806\tvalid-rmse:9.12603\tvalid-r2:0.46492\n",
      "[430]\ttrain-rmse:7.83833\ttrain-r2:0.62074\tvalid-rmse:9.13021\tvalid-r2:0.46443\n",
      "[440]\ttrain-rmse:7.81493\ttrain-r2:0.62300\tvalid-rmse:9.13204\tvalid-r2:0.46422\n",
      "[450]\ttrain-rmse:7.79082\ttrain-r2:0.62532\tvalid-rmse:9.12997\tvalid-r2:0.46446\n",
      "[454]\ttrain-rmse:7.78228\ttrain-r2:0.62614\tvalid-rmse:9.13138\tvalid-r2:0.46430\n"
     ]
    }
   ],
   "source": [
    "# Predicting the score\n",
    "# Creating a function for the same\n",
    "\n",
    "def scorer(m, w):\n",
    "    labels = w.get_label()\n",
    "    return 'r2', r2_score(labels, m)\n",
    "\n",
    "final_set = [(f_train, 'train'), (f_valid, 'valid')]\n",
    "\n",
    "#1000 decision trees are being added\n",
    "P = xgb.train(params, f_train, 1000, final_set, early_stopping_rounds=50, feval=scorer, maximize=True, verbose_eval=10)\n",
    "\n",
    "## xgb.train: eXtreme Gradient Boosting Training\n",
    "## xgb.train is an advanced interface for training an xgboost model.\n",
    "## https://www.rdocumentation.org/packages/xgboost/versions/1.4.1.1/topics/xgb.train"
   ]
  },
  {
   "cell_type": "code",
   "execution_count": 24,
   "metadata": {
    "colab": {
     "base_uri": "https://localhost:8080/"
    },
    "id": "LmHOahlCMrGz",
    "outputId": "69edba8e-0358-4845-8bb9-589b4be355f1"
   },
   "outputs": [
    {
     "data": {
      "text/plain": [
       "array([ 92.592865,  96.851364, 102.64923 ,  79.46705 , 111.11178 ,\n",
       "       101.86868 ,  92.87231 , 102.73963 , 103.28341 , 114.45355 ,\n",
       "        76.90071 ,  96.14051 ,  97.27842 , 103.10713 ,  96.18952 ,\n",
       "        95.92386 , 109.23982 ,  97.03336 ,  95.065475, 115.34622 ,\n",
       "       113.624176,  97.69768 ,  95.80118 , 101.38151 ,  93.715225,\n",
       "       111.21973 ,  95.64712 ,  78.08221 ,  93.415985,  94.498474,\n",
       "        94.921585, 102.04619 ,  96.28558 , 109.05853 ,  98.06487 ,\n",
       "       114.28747 , 112.87755 ,  99.333244,  92.59446 ,  98.92737 ,\n",
       "       114.08015 , 101.905075, 119.12566 , 108.742676,  96.52782 ,\n",
       "       102.02457 ,  91.62731 , 103.81592 , 109.63143 , 104.70231 ,\n",
       "        94.94296 ,  99.73851 , 103.5587  , 106.87215 ,  99.95413 ,\n",
       "       101.46886 ,  98.64658 , 111.584785,  95.69909 ,  97.569115,\n",
       "       109.13047 ,  76.614456,  95.38426 ,  95.71098 ,  77.54434 ,\n",
       "        98.49977 ,  94.57728 , 100.03555 , 104.70231 ,  99.75031 ,\n",
       "        94.11511 ,  94.69793 ,  98.91017 , 105.74342 ,  95.95307 ,\n",
       "       108.52408 ,  96.26641 , 109.11688 ,  95.39671 ,  98.73568 ,\n",
       "       109.1254  , 117.9022  , 106.57305 , 110.77879 , 108.80718 ,\n",
       "        98.367966,  97.78052 , 103.40237 ,  98.78053 , 104.01215 ,\n",
       "        94.84318 , 102.11917 ,  95.086105, 105.16301 , 109.519905,\n",
       "        94.17959 , 100.98926 , 111.09804 , 102.73896 ,  94.36714 ,\n",
       "        78.376495, 102.64333 ,  98.85869 ,  92.40212 , 100.93621 ,\n",
       "       102.184395,  96.00317 ,  98.70121 , 107.37919 ,  95.66778 ,\n",
       "       102.64333 ,  95.73252 , 102.58386 , 101.962036, 100.01417 ,\n",
       "        77.129616,  99.9427  ,  94.22027 , 103.445946, 112.53239 ,\n",
       "       106.0372  , 117.5436  ,  95.920555, 110.114044,  99.68802 ,\n",
       "        97.98984 , 101.214424, 114.81041 ,  95.02978 , 100.95927 ,\n",
       "       107.77898 , 104.099304,  76.461365,  98.46481 , 110.834366,\n",
       "       109.470276, 102.27883 , 101.696976, 110.90029 ,  94.92972 ,\n",
       "        82.371346, 104.69972 , 101.75131 , 116.52808 ,  97.28587 ,\n",
       "        92.655525, 108.04487 , 107.65867 , 111.02908 ,  96.473625,\n",
       "       110.29592 ,  96.770485,  96.83663 , 109.60468 , 116.5086  ,\n",
       "       114.154396,  97.74108 ,  97.31406 , 101.496086, 107.38968 ,\n",
       "        98.17211 ,  96.1355  ,  93.94742 ,  92.28007 , 107.0675  ,\n",
       "        95.89095 ,  97.13153 , 109.14526 , 120.01224 , 102.50057 ,\n",
       "        76.347404, 101.07794 ,  92.56608 , 100.40393 ,  98.03293 ,\n",
       "       116.34224 ,  96.367195,  93.614075, 102.49297 , 105.561005,\n",
       "       105.689926, 101.72537 , 112.27395 ,  93.590866, 111.06101 ,\n",
       "        94.71778 , 105.91159 , 103.00712 ,  99.93466 , 102.255424,\n",
       "       108.62086 , 114.88641 ,  93.67223 , 108.04301 ,  91.84809 ,\n",
       "        99.747314, 103.48356 ,  96.08142 , 102.732735, 109.88114 ,\n",
       "        95.11315 , 105.80426 , 105.25898 ,  96.94067 ,  93.474396,\n",
       "       107.68736 , 102.78025 , 105.04049 ,  98.40267 ,  96.43947 ,\n",
       "        96.19297 ,  92.40212 ,  95.41955 ,  95.95307 ,  93.57315 ,\n",
       "        95.023575,  94.187355,  94.593704, 105.5021  , 102.7576  ,\n",
       "       111.07479 ,  92.75227 , 101.937065,  97.020134, 113.163475,\n",
       "        96.23818 ,  94.07347 , 112.32864 , 106.54647 ,  98.81153 ,\n",
       "        93.45874 ,  90.98819 ,  98.38001 ,  96.42151 , 105.99918 ,\n",
       "       101.140884,  93.95134 , 107.95355 ,  97.71309 ,  93.1017  ,\n",
       "        79.58351 , 103.19763 , 111.67914 , 100.55594 ,  93.75746 ,\n",
       "        93.74219 ,  94.72226 , 103.24746 ,  94.97559 ,  96.80201 ,\n",
       "       101.34778 , 108.71046 ,  96.065865,  97.21602 , 100.80665 ,\n",
       "        94.8891  ,  95.71919 , 105.62447 , 117.53652 , 107.60777 ,\n",
       "        98.01482 , 104.61342 , 108.97973 ,  95.71394 , 107.078255,\n",
       "       111.23101 ,  95.072174,  88.92395 , 114.03736 ,  95.77129 ,\n",
       "       101.97911 ,  93.07366 , 108.698975, 107.514366, 106.29174 ,\n",
       "       103.48325 , 105.93813 ,  93.7263  ,  96.81864 ,  96.9071  ,\n",
       "        99.541245,  96.55617 , 101.10314 ,  97.16934 ,  77.23964 ,\n",
       "        95.80168 ,  94.222534, 103.91837 ,  96.19265 , 111.18349 ,\n",
       "        91.21307 , 103.56558 ,  92.98278 , 112.787285,  96.02052 ,\n",
       "       107.56183 ,  83.12153 ,  94.556694, 107.33015 , 109.94282 ,\n",
       "       109.78852 , 106.00917 ,  98.40267 ,  99.48975 , 104.953964,\n",
       "        97.614334, 102.25043 , 102.789795,  93.75746 ,  94.77654 ,\n",
       "        97.50468 ,  94.702736,  96.99202 , 109.48431 , 101.60296 ,\n",
       "        96.74943 ,  95.14462 ,  99.963684,  95.7348  ,  97.44451 ,\n",
       "       117.1813  ,  94.83182 , 111.21012 ,  94.606125,  81.67982 ,\n",
       "       106.57305 ,  95.14283 , 107.221825, 117.013565, 107.40247 ,\n",
       "       118.016594,  94.78456 , 110.028366, 105.67133 ,  97.62969 ,\n",
       "        96.740036, 107.24772 ,  97.82914 , 112.24091 , 104.61999 ,\n",
       "       107.22043 , 102.401985,  96.17481 ,  93.56782 , 100.393394,\n",
       "       102.25043 , 111.28592 ,  94.09652 , 109.355194, 110.11724 ,\n",
       "        94.50252 , 107.29639 ,  78.40423 , 110.38225 ,  95.28065 ,\n",
       "       109.60493 ,  96.29418 , 107.512375, 110.10417 ,  95.35437 ,\n",
       "        95.376915, 110.81316 , 107.68694 ,  97.9445  ,  97.2708  ,\n",
       "        92.13072 , 106.65674 ,  93.46937 , 103.348656, 104.08206 ,\n",
       "        94.66474 ,  99.64423 , 101.99053 ,  94.92546 , 111.47355 ,\n",
       "       117.80591 ,  92.352486,  97.65551 , 103.80778 ,  96.10197 ,\n",
       "       106.53495 ,  94.595505, 102.056244, 111.733315, 106.69783 ,\n",
       "        96.58108 ,  95.86112 , 100.18456 , 109.42379 ,  99.35526 ,\n",
       "       102.642006, 117.80058 , 103.10713 , 106.52454 ,  91.49746 ,\n",
       "       101.33933 , 101.62328 , 103.34771 ,  92.84458 ,  98.89315 ,\n",
       "        76.63189 , 105.78529 , 114.342064, 109.12954 ,  95.774704,\n",
       "       110.81444 , 110.46227 , 105.21831 ,  78.06285 , 102.65919 ,\n",
       "        97.4205  ,  95.79417 ,  99.41863 , 109.96693 ,  98.24293 ,\n",
       "       108.78055 , 102.25043 , 100.99846 , 108.76178 , 105.92783 ,\n",
       "       104.154366, 104.44408 ,  96.47799 , 108.52937 , 109.64341 ,\n",
       "       110.80607 , 117.10972 , 103.319   ,  94.39396 , 109.639946,\n",
       "       103.79518 , 101.125114,  96.72705 , 112.85729 , 109.85133 ,\n",
       "       101.34203 , 102.89354 , 102.7576  , 108.47479 ,  94.3355  ,\n",
       "       104.922005,  96.8104  ,  95.75595 , 108.15333 ,  96.728615,\n",
       "        93.5879  , 100.10751 , 103.26917 , 109.11688 ,  94.3201  ,\n",
       "        98.075066,  93.796646,  95.49632 ,  92.23022 , 104.53787 ,\n",
       "        98.50104 , 104.6897  ,  98.83511 ,  96.437874,  97.43476 ,\n",
       "        95.91644 , 102.395584,  99.30056 ,  99.036255, 109.94789 ,\n",
       "       117.2427  ,  94.13841 , 108.44098 , 105.66658 ,  76.991394,\n",
       "       102.25043 ,  98.88439 , 105.14651 ,  96.72347 , 109.18741 ,\n",
       "       106.02644 ,  91.45304 ,  96.46753 , 111.252884,  94.763954,\n",
       "       109.11688 , 110.137474,  79.82696 , 101.56369 , 101.8215  ,\n",
       "        94.76227 , 111.777596,  98.19611 ,  94.187355,  99.79605 ,\n",
       "       100.96105 , 106.25727 ,  99.00804 , 109.54292 ,  97.60268 ,\n",
       "        77.74169 ,  79.8185  ,  92.74724 ,  94.05518 ,  99.20713 ,\n",
       "        94.97584 ,  95.95704 ,  98.51135 , 102.727234, 110.73893 ,\n",
       "       108.6745  ,  98.56944 ,  96.370964, 116.352585,  99.68797 ,\n",
       "        96.52993 , 100.37337 ,  98.49917 , 102.05561 , 101.962036,\n",
       "        78.29081 , 110.46227 ,  95.422386,  93.47549 ,  77.35723 ,\n",
       "        95.47047 ,  97.14737 ,  94.60564 , 117.57559 , 110.83242 ,\n",
       "       109.11688 ,  96.818924,  95.98297 ,  92.475685, 104.509056,\n",
       "       103.98525 ,  96.196526,  96.48995 ,  95.97573 ,  99.04919 ,\n",
       "       117.567665, 102.22836 ,  97.17652 ,  95.587906,  98.4869  ,\n",
       "        77.69757 , 104.476364,  94.95012 , 114.925514,  95.87461 ,\n",
       "       109.72212 , 112.82888 ,  94.481   , 108.984795, 113.75952 ,\n",
       "       100.9729  ,  95.558464,  93.649956,  96.08928 , 105.99258 ,\n",
       "        91.094666, 102.23152 , 106.47164 , 103.891235, 105.08474 ,\n",
       "       114.20126 , 100.679634, 110.51179 , 109.19588 , 109.79735 ,\n",
       "        99.579445, 100.1497  , 102.30159 , 101.57728 , 109.8209  ,\n",
       "        94.37494 ,  92.086494, 106.92881 ,  96.41214 ,  94.284836,\n",
       "        99.31576 , 117.9022  , 110.84267 ,  97.5045  , 114.23062 ,\n",
       "        95.291374, 109.278534, 109.01758 , 109.35933 , 101.3352  ,\n",
       "       104.58389 , 104.44523 ,  98.1662  , 105.13248 , 100.22653 ,\n",
       "       101.3704  , 108.89809 ,  79.12657 , 100.11407 , 100.276474,\n",
       "       110.66051 ,  95.99347 ,  77.44755 ,  96.31808 ,  94.92895 ,\n",
       "       102.53633 ,  95.465866,  96.01343 ,  93.85514 ,  95.66231 ,\n",
       "        94.21548 , 101.66303 ,  77.048965, 102.10182 ,  92.20589 ,\n",
       "        95.743225,  80.42498 , 101.07363 , 107.411674, 109.916916,\n",
       "       109.51822 ,  94.99402 ,  95.80224 , 105.97172 , 100.50673 ,\n",
       "       109.30001 ,  93.85024 ,  78.17597 , 110.185455,  99.069214,\n",
       "        98.13863 , 107.77072 , 108.02795 , 108.351616,  96.90383 ,\n",
       "       101.74592 ,  93.97314 ,  96.44175 , 100.31339 , 115.01649 ,\n",
       "       101.95729 , 110.56916 ,  97.47707 , 111.82471 , 100.67094 ,\n",
       "       101.99771 ,  81.74672 , 110.56271 ,  96.581215, 110.93248 ,\n",
       "       113.80274 , 110.78058 ,  95.37344 , 101.942825, 101.31482 ,\n",
       "       109.07591 , 111.23744 , 100.61466 ,  92.713066,  77.280396,\n",
       "       110.62631 , 111.67914 , 103.76828 ,  95.89786 , 111.435555,\n",
       "        94.93161 , 102.77216 ,  97.24914 , 103.70321 ,  94.187355,\n",
       "       107.277824, 139.26761 , 113.02625 , 109.682846, 106.57077 ,\n",
       "       102.386116,  97.17402 ,  81.957375,  95.031876,  92.26837 ,\n",
       "        77.94658 , 103.83079 , 107.04988 , 103.513   , 100.76962 ,\n",
       "        99.56715 ,  93.07875 , 101.663635, 106.88743 , 103.06353 ,\n",
       "        95.22852 ,  97.940384, 107.543   ,  97.07123 ,  95.44153 ,\n",
       "       101.10611 ,  95.87719 ,  94.8381  ,  77.53009 ,  94.33158 ,\n",
       "       110.52488 , 103.79676 , 107.303566, 108.53147 , 101.25305 ,\n",
       "        94.294205,  96.89019 ,  98.87902 , 101.14785 ,  95.2372  ,\n",
       "       116.50161 ,  93.721535,  96.473625, 100.44903 ,  97.74315 ,\n",
       "       110.1476  , 106.042694, 107.62281 , 103.35448 , 118.96317 ,\n",
       "        94.11327 ,  93.361626,  95.49287 ,  91.907906, 106.06891 ,\n",
       "       113.121   , 100.689476,  96.3521  ,  94.57379 ,  81.44379 ,\n",
       "        94.04881 , 108.9779  ,  95.46751 , 106.97169 , 105.992165,\n",
       "        99.85753 ,  98.1241  ,  98.62041 ,  77.8052  ,  93.48344 ,\n",
       "        95.5083  ,  96.388054, 102.11021 ,  98.9949  , 109.4423  ,\n",
       "       105.21503 ,  94.88419 ,  95.14359 ,  99.10505 , 109.64341 ,\n",
       "        94.05518 , 105.664566, 112.48328 ,  97.20401 ,  76.63334 ,\n",
       "        95.16081 ,  95.537865, 101.48219 , 103.83325 ,  97.44801 ,\n",
       "        94.628   ,  95.71206 ,  96.82289 , 101.415474, 102.78666 ,\n",
       "        95.47764 , 103.281456,  79.58744 ,  93.97314 ,  99.39935 ,\n",
       "       106.77902 , 103.620285,  93.47179 , 114.684975, 102.25043 ,\n",
       "       104.22168 ,  97.74173 , 117.53652 ,  95.13683 , 109.245895,\n",
       "       104.80766 ,  97.7217  ,  98.0877  ,  95.8657  ,  97.53405 ,\n",
       "        92.69084 ,  99.59776 ,  95.96317 , 106.97236 , 105.51325 ,\n",
       "        99.759224, 108.92932 ,  77.139885,  96.593094,  97.960976,\n",
       "       104.174576, 103.002426,  93.5074  , 111.15294 ,  93.28281 ,\n",
       "        99.78303 ,  94.389656, 100.31277 ,  96.82466 , 111.244225,\n",
       "        95.04905 ,  93.29567 ,  98.47082 , 102.3056  , 111.89891 ,\n",
       "        91.90748 ,  94.4653  ,  94.86672 ,  94.93569 ,  95.43819 ,\n",
       "       112.67308 , 103.251045,  97.43268 ,  95.06439 , 105.49047 ,\n",
       "        98.01624 , 113.552704,  92.73616 ,  98.42971 , 103.03233 ,\n",
       "       108.200134, 102.386116,  97.53995 ,  98.514824,  79.38947 ,\n",
       "        95.40697 ,  97.90585 ,  77.582794,  95.5741  ,  95.7443  ,\n",
       "        93.39502 , 103.712814,  93.527916, 107.212234, 107.11508 ,\n",
       "        99.28663 , 103.39869 , 105.067825,  93.18184 ,  97.32915 ,\n",
       "        93.85024 , 106.18445 ], dtype=float32)"
      ]
     },
     "execution_count": 24,
     "metadata": {},
     "output_type": "execute_result"
    }
   ],
   "source": [
    "# Predicting on test set\n",
    "#p_test = P.predict(f_test)\n",
    "p_test = P.predict(f_valid)\n",
    "p_test"
   ]
  },
  {
   "cell_type": "code",
   "execution_count": 25,
   "metadata": {
    "colab": {
     "base_uri": "https://localhost:8080/",
     "height": 203
    },
    "id": "CsE2rKdTNERW",
    "outputId": "2b6d6d9a-8505-455e-e10c-6a6d61426706"
   },
   "outputs": [
    {
     "data": {
      "text/html": [
       "<div>\n",
       "<style scoped>\n",
       "    .dataframe tbody tr th:only-of-type {\n",
       "        vertical-align: middle;\n",
       "    }\n",
       "\n",
       "    .dataframe tbody tr th {\n",
       "        vertical-align: top;\n",
       "    }\n",
       "\n",
       "    .dataframe thead th {\n",
       "        text-align: right;\n",
       "    }\n",
       "</style>\n",
       "<table border=\"1\" class=\"dataframe\">\n",
       "  <thead>\n",
       "    <tr style=\"text-align: right;\">\n",
       "      <th></th>\n",
       "      <th>y</th>\n",
       "    </tr>\n",
       "  </thead>\n",
       "  <tbody>\n",
       "    <tr>\n",
       "      <th>0</th>\n",
       "      <td>92.592865</td>\n",
       "    </tr>\n",
       "    <tr>\n",
       "      <th>1</th>\n",
       "      <td>96.851364</td>\n",
       "    </tr>\n",
       "    <tr>\n",
       "      <th>2</th>\n",
       "      <td>102.649231</td>\n",
       "    </tr>\n",
       "    <tr>\n",
       "      <th>3</th>\n",
       "      <td>79.467049</td>\n",
       "    </tr>\n",
       "    <tr>\n",
       "      <th>4</th>\n",
       "      <td>111.111778</td>\n",
       "    </tr>\n",
       "  </tbody>\n",
       "</table>\n",
       "</div>"
      ],
      "text/plain": [
       "            y\n",
       "0   92.592865\n",
       "1   96.851364\n",
       "2  102.649231\n",
       "3   79.467049\n",
       "4  111.111778"
      ]
     },
     "execution_count": 25,
     "metadata": {},
     "output_type": "execute_result"
    }
   ],
   "source": [
    "Predicted_Data = pd.DataFrame()\n",
    "Predicted_Data['y'] = p_test\n",
    "Predicted_Data.head()"
   ]
  },
  {
   "cell_type": "code",
   "execution_count": 31,
   "metadata": {},
   "outputs": [
    {
     "name": "stdout",
     "output_type": "stream",
     "text": [
      "9.131376983037843\n"
     ]
    }
   ],
   "source": [
    "from sklearn.metrics import mean_squared_error\n",
    "import numpy as np\n",
    "print(np.sqrt(mean_squared_error(y_valid, p_test)))"
   ]
  },
  {
   "cell_type": "code",
   "execution_count": null,
   "metadata": {},
   "outputs": [],
   "source": []
  }
 ],
 "metadata": {
  "colab": {
   "collapsed_sections": [],
   "name": "Copy of Mercedes-Benz ML project.ipynb",
   "provenance": []
  },
  "kernelspec": {
   "display_name": "Python 3 (ipykernel)",
   "language": "python",
   "name": "python3"
  },
  "language_info": {
   "codemirror_mode": {
    "name": "ipython",
    "version": 3
   },
   "file_extension": ".py",
   "mimetype": "text/x-python",
   "name": "python",
   "nbconvert_exporter": "python",
   "pygments_lexer": "ipython3",
   "version": "3.9.7"
  }
 },
 "nbformat": 4,
 "nbformat_minor": 1
}
